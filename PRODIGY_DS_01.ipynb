{
 "cells": [
  {
   "cell_type": "markdown",
   "id": "afab615a-ac35-4ce4-bfe9-6b953b8a41c6",
   "metadata": {},
   "source": [
    "# DATA SCIENCE"
   ]
  },
  {
   "cell_type": "markdown",
   "id": "4aa9e934-415d-4208-ab60-d3a19bc90aa2",
   "metadata": {},
   "source": [
    "# TASK CODE : DS"
   ]
  },
  {
   "cell_type": "markdown",
   "id": "f5821324-256c-4520-b3fa-7dd7475436ad",
   "metadata": {},
   "source": [
    "# TASK - 01 : Data visualization by using Bar chart or Histogram "
   ]
  },
  {
   "cell_type": "markdown",
   "id": "98044f93-dbd3-4e85-897b-3ff886f073a3",
   "metadata": {},
   "source": [
    "# Dataset : world_bank_datasets.csv [2015-2020]"
   ]
  },
  {
   "cell_type": "code",
   "execution_count": 1,
   "id": "c39ec9cc-c139-430b-a944-3817c380ea84",
   "metadata": {},
   "outputs": [],
   "source": [
    "# IMPORT THE LIBRARIES\n",
    "import pandas as pd"
   ]
  },
  {
   "cell_type": "code",
   "execution_count": 7,
   "id": "66d78ca3-b92e-444b-8045-0faedc2a3fea",
   "metadata": {},
   "outputs": [
    {
     "data": {
      "text/html": [
       "<div>\n",
       "<style scoped>\n",
       "    .dataframe tbody tr th:only-of-type {\n",
       "        vertical-align: middle;\n",
       "    }\n",
       "\n",
       "    .dataframe tbody tr th {\n",
       "        vertical-align: top;\n",
       "    }\n",
       "\n",
       "    .dataframe thead th {\n",
       "        text-align: right;\n",
       "    }\n",
       "</style>\n",
       "<table border=\"1\" class=\"dataframe\">\n",
       "  <thead>\n",
       "    <tr style=\"text-align: right;\">\n",
       "      <th></th>\n",
       "      <th>record</th>\n",
       "      <th>country</th>\n",
       "      <th>year</th>\n",
       "      <th>Gross Domestic Product (GDP)</th>\n",
       "      <th>Gross National Income (GNI)</th>\n",
       "      <th>Inflation rate</th>\n",
       "      <th>Unemployment rate</th>\n",
       "      <th>Poverty rate</th>\n",
       "      <th>Life expectancy</th>\n",
       "      <th>Literacy rate</th>\n",
       "      <th>...</th>\n",
       "      <th>Foreign direct investment (FDI)</th>\n",
       "      <th>Exports of goods and services</th>\n",
       "      <th>Imports of goods and services</th>\n",
       "      <th>Gross capital formation</th>\n",
       "      <th>Agricultural land area</th>\n",
       "      <th>Agricultural production index</th>\n",
       "      <th>GDP_BN</th>\n",
       "      <th>GNI_BN</th>\n",
       "      <th>year_o</th>\n",
       "      <th>net_exim_bal</th>\n",
       "    </tr>\n",
       "  </thead>\n",
       "  <tbody>\n",
       "    <tr>\n",
       "      <th>0</th>\n",
       "      <td>0</td>\n",
       "      <td>Argentina</td>\n",
       "      <td>01-01-2020</td>\n",
       "      <td>3.860000e+11</td>\n",
       "      <td>3.760000e+11</td>\n",
       "      <td>NaN</td>\n",
       "      <td>11.460</td>\n",
       "      <td>42.0</td>\n",
       "      <td>75.892</td>\n",
       "      <td>NaN</td>\n",
       "      <td>...</td>\n",
       "      <td>1.224943</td>\n",
       "      <td>16.610872</td>\n",
       "      <td>13.608927</td>\n",
       "      <td>14.130595</td>\n",
       "      <td>39.603229</td>\n",
       "      <td>109.82</td>\n",
       "      <td>385.540225</td>\n",
       "      <td>375.535785</td>\n",
       "      <td>2020</td>\n",
       "      <td>3.001945</td>\n",
       "    </tr>\n",
       "    <tr>\n",
       "      <th>1</th>\n",
       "      <td>1</td>\n",
       "      <td>Argentina</td>\n",
       "      <td>01-01-2019</td>\n",
       "      <td>4.480000e+11</td>\n",
       "      <td>4.300000e+11</td>\n",
       "      <td>NaN</td>\n",
       "      <td>9.840</td>\n",
       "      <td>35.5</td>\n",
       "      <td>77.284</td>\n",
       "      <td>NaN</td>\n",
       "      <td>...</td>\n",
       "      <td>1.485007</td>\n",
       "      <td>17.924878</td>\n",
       "      <td>14.705737</td>\n",
       "      <td>14.210030</td>\n",
       "      <td>39.603229</td>\n",
       "      <td>112.94</td>\n",
       "      <td>447.754609</td>\n",
       "      <td>430.166721</td>\n",
       "      <td>2019</td>\n",
       "      <td>3.219142</td>\n",
       "    </tr>\n",
       "    <tr>\n",
       "      <th>2</th>\n",
       "      <td>2</td>\n",
       "      <td>Argentina</td>\n",
       "      <td>01-01-2018</td>\n",
       "      <td>5.250000e+11</td>\n",
       "      <td>5.060000e+11</td>\n",
       "      <td>NaN</td>\n",
       "      <td>9.220</td>\n",
       "      <td>32.0</td>\n",
       "      <td>76.999</td>\n",
       "      <td>99.003868</td>\n",
       "      <td>...</td>\n",
       "      <td>2.232532</td>\n",
       "      <td>14.436686</td>\n",
       "      <td>16.325850</td>\n",
       "      <td>16.613885</td>\n",
       "      <td>39.603229</td>\n",
       "      <td>97.41</td>\n",
       "      <td>524.819743</td>\n",
       "      <td>506.093901</td>\n",
       "      <td>2018</td>\n",
       "      <td>-1.889164</td>\n",
       "    </tr>\n",
       "    <tr>\n",
       "      <th>3</th>\n",
       "      <td>3</td>\n",
       "      <td>Argentina</td>\n",
       "      <td>01-01-2017</td>\n",
       "      <td>6.440000e+11</td>\n",
       "      <td>6.270000e+11</td>\n",
       "      <td>NaN</td>\n",
       "      <td>8.350</td>\n",
       "      <td>25.7</td>\n",
       "      <td>76.833</td>\n",
       "      <td>NaN</td>\n",
       "      <td>...</td>\n",
       "      <td>1.789364</td>\n",
       "      <td>11.320283</td>\n",
       "      <td>13.969318</td>\n",
       "      <td>18.212567</td>\n",
       "      <td>40.647424</td>\n",
       "      <td>106.07</td>\n",
       "      <td>643.628665</td>\n",
       "      <td>627.200729</td>\n",
       "      <td>2017</td>\n",
       "      <td>-2.649034</td>\n",
       "    </tr>\n",
       "    <tr>\n",
       "      <th>4</th>\n",
       "      <td>4</td>\n",
       "      <td>Argentina</td>\n",
       "      <td>01-01-2016</td>\n",
       "      <td>5.580000e+11</td>\n",
       "      <td>5.450000e+11</td>\n",
       "      <td>NaN</td>\n",
       "      <td>8.109</td>\n",
       "      <td>30.3</td>\n",
       "      <td>76.308</td>\n",
       "      <td>99.125008</td>\n",
       "      <td>...</td>\n",
       "      <td>0.584750</td>\n",
       "      <td>12.527095</td>\n",
       "      <td>13.566793</td>\n",
       "      <td>17.663228</td>\n",
       "      <td>41.716051</td>\n",
       "      <td>100.94</td>\n",
       "      <td>557.531376</td>\n",
       "      <td>545.250717</td>\n",
       "      <td>2016</td>\n",
       "      <td>-1.039698</td>\n",
       "    </tr>\n",
       "  </tbody>\n",
       "</table>\n",
       "<p>5 rows × 23 columns</p>\n",
       "</div>"
      ],
      "text/plain": [
       "   record    country        year  Gross Domestic Product (GDP)  \\\n",
       "0       0  Argentina  01-01-2020                  3.860000e+11   \n",
       "1       1  Argentina  01-01-2019                  4.480000e+11   \n",
       "2       2  Argentina  01-01-2018                  5.250000e+11   \n",
       "3       3  Argentina  01-01-2017                  6.440000e+11   \n",
       "4       4  Argentina  01-01-2016                  5.580000e+11   \n",
       "\n",
       "   Gross National Income (GNI)  Inflation rate  Unemployment rate  \\\n",
       "0                 3.760000e+11             NaN             11.460   \n",
       "1                 4.300000e+11             NaN              9.840   \n",
       "2                 5.060000e+11             NaN              9.220   \n",
       "3                 6.270000e+11             NaN              8.350   \n",
       "4                 5.450000e+11             NaN              8.109   \n",
       "\n",
       "   Poverty rate  Life expectancy  Literacy rate  ...  \\\n",
       "0          42.0           75.892            NaN  ...   \n",
       "1          35.5           77.284            NaN  ...   \n",
       "2          32.0           76.999      99.003868  ...   \n",
       "3          25.7           76.833            NaN  ...   \n",
       "4          30.3           76.308      99.125008  ...   \n",
       "\n",
       "   Foreign direct investment (FDI)  Exports of goods and services  \\\n",
       "0                         1.224943                      16.610872   \n",
       "1                         1.485007                      17.924878   \n",
       "2                         2.232532                      14.436686   \n",
       "3                         1.789364                      11.320283   \n",
       "4                         0.584750                      12.527095   \n",
       "\n",
       "   Imports of goods and services  Gross capital formation  \\\n",
       "0                      13.608927                14.130595   \n",
       "1                      14.705737                14.210030   \n",
       "2                      16.325850                16.613885   \n",
       "3                      13.969318                18.212567   \n",
       "4                      13.566793                17.663228   \n",
       "\n",
       "   Agricultural land area  Agricultural production index      GDP_BN  \\\n",
       "0               39.603229                         109.82  385.540225   \n",
       "1               39.603229                         112.94  447.754609   \n",
       "2               39.603229                          97.41  524.819743   \n",
       "3               40.647424                         106.07  643.628665   \n",
       "4               41.716051                         100.94  557.531376   \n",
       "\n",
       "       GNI_BN  year_o  net_exim_bal  \n",
       "0  375.535785    2020      3.001945  \n",
       "1  430.166721    2019      3.219142  \n",
       "2  506.093901    2018     -1.889164  \n",
       "3  627.200729    2017     -2.649034  \n",
       "4  545.250717    2016     -1.039698  \n",
       "\n",
       "[5 rows x 23 columns]"
      ]
     },
     "execution_count": 7,
     "metadata": {},
     "output_type": "execute_result"
    }
   ],
   "source": [
    "# LOAD THE CSV FILE\n",
    "df = pd.read_csv('world_bank_datasets.csv')\n",
    "# SHOWING THE DATASETS\n",
    "df.head()"
   ]
  },
  {
   "cell_type": "markdown",
   "id": "a9829ec8-5084-4ff3-94d0-e0c3520c96d4",
   "metadata": {},
   "source": [
    "# BAR GRAPH \n",
    "# TOP 10 COUNTRIES BY AVERAGE GDP [2015 - 2020]"
   ]
  },
  {
   "cell_type": "code",
   "execution_count": 9,
   "id": "9b591948-0261-4f00-ad2c-bc9532fadcb5",
   "metadata": {},
   "outputs": [
    {
     "data": {
      "image/png": "[encoded data removed]",
      "text/plain": [
       "<Figure size 1400x600 with 1 Axes>"
      ]
     },
     "metadata": {},
     "output_type": "display_data"
    }
   ],
   "source": [
    "# import visualizatio libraries\n",
    "\n",
    "import matplotlib.pyplot as plt\n",
    "\n",
    "# Calculate Average GDP for each countries and get Top-10\n",
    "average_gdp_gni = df.groupby('country')['GDP_BN'].mean().nlargest(10)\n",
    "\n",
    "# Plotting the bar graph\n",
    "plt.figure(figsize=(14,6))\n",
    "plt.title(\"Top 10 Countries by Average GDP\")\n",
    "plt.xlabel(\"Country\")\n",
    "plt.ylabel(\"Average GDP (BN)\")\n",
    "plt.bar(average_gdp_gni.index, average_gdp_gni.values, color=\"orange\", edgecolor='black')\n",
    "plt.show()"
   ]
  },
  {
   "cell_type": "markdown",
   "id": "286e3d2b-288a-41fe-ae6f-61471b074782",
   "metadata": {},
   "source": [
    "# HISTOGRAM\n",
    "# DISTRIBUTION OF LIFE EXPECTANCY [2015 - 2020]"
   ]
  },
  {
   "cell_type": "code",
   "execution_count": 15,
   "id": "58f29238-2474-4232-a6a4-0fbccc2977b7",
   "metadata": {},
   "outputs": [
    {
     "data": {
      "image/png": "[encoded data removed]",
      "text/plain": [
       "<Figure size 1400x600 with 1 Axes>"
      ]
     },
     "metadata": {},
     "output_type": "display_data"
    }
   ],
   "source": [
    "# import visualizatio libraries\n",
    "import matplotlib.pyplot as plt\n",
    "\n",
    "# Plotting the histogram\n",
    "plt.figure(figsize=(14,6))\n",
    "plt.title(\"Life Expectancy Distribution\")\n",
    "plt.xlabel(\"Years\")\n",
    "plt.ylabel(\"Number of Countries\")\n",
    "plt.hist(df['Life expectancy'], bins=10, color='hotpink', edgecolor='black')\n",
    "plt.show()"
   ]
  },
  {
   "cell_type": "code",
   "execution_count": null,
   "id": "ade75bbd-d79f-4f89-a63f-b74d2dc68003",
   "metadata": {},
   "outputs": [],
   "source": []
  }
 ],
 "metadata": {
  "kernelspec": {
   "display_name": "Python 3 (ipykernel)",
   "language": "python",
   "name": "python3"
  },
  "language_info": {
   "codemirror_mode": {
    "name": "ipython",
    "version": 3
   },
   "file_extension": ".py",
   "mimetype": "text/x-python",
   "name": "python",
   "nbconvert_exporter": "python",
   "pygments_lexer": "ipython3",
   "version": "3.12.4"
  }
 },
 "nbformat": 4,
 "nbformat_minor": 5
}
